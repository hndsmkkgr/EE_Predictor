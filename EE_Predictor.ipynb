{
 "cells": [
  {
   "cell_type": "code",
   "execution_count": 129,
   "metadata": {},
   "outputs": [],
   "source": [
    "import pandas as pd\n",
    "import numpy as np"
   ]
  },
  {
   "cell_type": "code",
   "execution_count": 4,
   "metadata": {},
   "outputs": [
    {
     "data": {
      "text/html": [
       "<div>\n",
       "<style scoped>\n",
       "    .dataframe tbody tr th:only-of-type {\n",
       "        vertical-align: middle;\n",
       "    }\n",
       "\n",
       "    .dataframe tbody tr th {\n",
       "        vertical-align: top;\n",
       "    }\n",
       "\n",
       "    .dataframe thead th {\n",
       "        text-align: right;\n",
       "    }\n",
       "</style>\n",
       "<table border=\"1\" class=\"dataframe\">\n",
       "  <thead>\n",
       "    <tr style=\"text-align: right;\">\n",
       "      <th></th>\n",
       "      <th>Year</th>\n",
       "      <th>Electricity Production (kWh)</th>\n",
       "      <th>Electricity Consumption (kWh/capita)</th>\n",
       "      <th>Population</th>\n",
       "      <th>CO2 emmission (kt)</th>\n",
       "      <th>Electricity Production from Fossil(kWh)</th>\n",
       "      <th>Electricity Production Renewable (kWh)</th>\n",
       "      <th>CO2 Emission from Electricity (kt)</th>\n",
       "    </tr>\n",
       "  </thead>\n",
       "  <tbody>\n",
       "    <tr>\n",
       "      <th>0</th>\n",
       "      <td>1960</td>\n",
       "      <td>NaN</td>\n",
       "      <td>NaN</td>\n",
       "      <td>87751068</td>\n",
       "      <td>21404.279</td>\n",
       "      <td>NaN</td>\n",
       "      <td>NaN</td>\n",
       "      <td>NaN</td>\n",
       "    </tr>\n",
       "    <tr>\n",
       "      <th>1</th>\n",
       "      <td>1961</td>\n",
       "      <td>NaN</td>\n",
       "      <td>NaN</td>\n",
       "      <td>90098394</td>\n",
       "      <td>26024.699</td>\n",
       "      <td>NaN</td>\n",
       "      <td>NaN</td>\n",
       "      <td>NaN</td>\n",
       "    </tr>\n",
       "    <tr>\n",
       "      <th>2</th>\n",
       "      <td>1962</td>\n",
       "      <td>NaN</td>\n",
       "      <td>NaN</td>\n",
       "      <td>92518377</td>\n",
       "      <td>22995.757</td>\n",
       "      <td>NaN</td>\n",
       "      <td>NaN</td>\n",
       "      <td>NaN</td>\n",
       "    </tr>\n",
       "    <tr>\n",
       "      <th>3</th>\n",
       "      <td>1963</td>\n",
       "      <td>NaN</td>\n",
       "      <td>NaN</td>\n",
       "      <td>95015297</td>\n",
       "      <td>22783.071</td>\n",
       "      <td>NaN</td>\n",
       "      <td>NaN</td>\n",
       "      <td>NaN</td>\n",
       "    </tr>\n",
       "    <tr>\n",
       "      <th>4</th>\n",
       "      <td>1964</td>\n",
       "      <td>NaN</td>\n",
       "      <td>NaN</td>\n",
       "      <td>97596733</td>\n",
       "      <td>22394.369</td>\n",
       "      <td>NaN</td>\n",
       "      <td>NaN</td>\n",
       "      <td>NaN</td>\n",
       "    </tr>\n",
       "  </tbody>\n",
       "</table>\n",
       "</div>"
      ],
      "text/plain": [
       "   Year  Electricity Production (kWh)  Electricity Consumption (kWh/capita)  \\\n",
       "0  1960                           NaN                                   NaN   \n",
       "1  1961                           NaN                                   NaN   \n",
       "2  1962                           NaN                                   NaN   \n",
       "3  1963                           NaN                                   NaN   \n",
       "4  1964                           NaN                                   NaN   \n",
       "\n",
       "   Population  CO2 emmission (kt)  Electricity Production from Fossil(kWh)  \\\n",
       "0    87751068           21404.279                                      NaN   \n",
       "1    90098394           26024.699                                      NaN   \n",
       "2    92518377           22995.757                                      NaN   \n",
       "3    95015297           22783.071                                      NaN   \n",
       "4    97596733           22394.369                                      NaN   \n",
       "\n",
       "   Electricity Production Renewable (kWh)  CO2 Emission from Electricity (kt)  \n",
       "0                                     NaN                                 NaN  \n",
       "1                                     NaN                                 NaN  \n",
       "2                                     NaN                                 NaN  \n",
       "3                                     NaN                                 NaN  \n",
       "4                                     NaN                                 NaN  "
      ]
     },
     "execution_count": 4,
     "metadata": {},
     "output_type": "execute_result"
    }
   ],
   "source": [
    "data = pd.read_csv(\"energy_impact_upd.csv\")\n",
    "data.head()"
   ]
  },
  {
   "cell_type": "code",
   "execution_count": 128,
   "metadata": {},
   "outputs": [
    {
     "data": {
      "text/plain": [
       "(59, 8)"
      ]
     },
     "execution_count": 128,
     "metadata": {},
     "output_type": "execute_result"
    }
   ],
   "source": [
    "data.columns = ['year','e_production','e_use','population', 'total_co2', 'e_fossil', 'e_renewable', 'e_co2']\n",
    "data.shape"
   ]
  },
  {
   "cell_type": "code",
   "execution_count": 157,
   "metadata": {},
   "outputs": [
    {
     "data": {
      "text/html": [
       "<div>\n",
       "<style scoped>\n",
       "    .dataframe tbody tr th:only-of-type {\n",
       "        vertical-align: middle;\n",
       "    }\n",
       "\n",
       "    .dataframe tbody tr th {\n",
       "        vertical-align: top;\n",
       "    }\n",
       "\n",
       "    .dataframe thead th {\n",
       "        text-align: right;\n",
       "    }\n",
       "</style>\n",
       "<table border=\"1\" class=\"dataframe\">\n",
       "  <thead>\n",
       "    <tr style=\"text-align: right;\">\n",
       "      <th></th>\n",
       "      <th>year</th>\n",
       "      <th>e_production</th>\n",
       "      <th>e_use</th>\n",
       "      <th>population</th>\n",
       "      <th>total_co2</th>\n",
       "      <th>e_fossil</th>\n",
       "      <th>e_renewable</th>\n",
       "      <th>e_co2</th>\n",
       "    </tr>\n",
       "  </thead>\n",
       "  <tbody>\n",
       "    <tr>\n",
       "      <th>22</th>\n",
       "      <td>1982</td>\n",
       "      <td>1.057200e+10</td>\n",
       "      <td>66.097398</td>\n",
       "      <td>154468229</td>\n",
       "      <td>105407.915</td>\n",
       "      <td>9.176000e+09</td>\n",
       "      <td>1.396000e+09</td>\n",
       "      <td>20053.82449</td>\n",
       "    </tr>\n",
       "    <tr>\n",
       "      <th>23</th>\n",
       "      <td>1983</td>\n",
       "      <td>1.211000e+10</td>\n",
       "      <td>71.444780</td>\n",
       "      <td>158009246</td>\n",
       "      <td>104956.874</td>\n",
       "      <td>1.008500e+10</td>\n",
       "      <td>2.025000e+09</td>\n",
       "      <td>20251.41910</td>\n",
       "    </tr>\n",
       "    <tr>\n",
       "      <th>24</th>\n",
       "      <td>1984</td>\n",
       "      <td>1.362200e+10</td>\n",
       "      <td>79.759998</td>\n",
       "      <td>161523347</td>\n",
       "      <td>112184.531</td>\n",
       "      <td>1.128700e+10</td>\n",
       "      <td>2.335000e+09</td>\n",
       "      <td>27438.50314</td>\n",
       "    </tr>\n",
       "    <tr>\n",
       "      <th>25</th>\n",
       "      <td>1985</td>\n",
       "      <td>1.409800e+10</td>\n",
       "      <td>92.056811</td>\n",
       "      <td>164982451</td>\n",
       "      <td>121245.688</td>\n",
       "      <td>1.088400e+10</td>\n",
       "      <td>3.214000e+09</td>\n",
       "      <td>30018.75003</td>\n",
       "    </tr>\n",
       "    <tr>\n",
       "      <th>26</th>\n",
       "      <td>1986</td>\n",
       "      <td>1.950700e+10</td>\n",
       "      <td>104.354756</td>\n",
       "      <td>168374287</td>\n",
       "      <td>121740.733</td>\n",
       "      <td>1.424500e+10</td>\n",
       "      <td>5.262000e+09</td>\n",
       "      <td>32416.40289</td>\n",
       "    </tr>\n",
       "  </tbody>\n",
       "</table>\n",
       "</div>"
      ],
      "text/plain": [
       "    year  e_production       e_use  population   total_co2      e_fossil  \\\n",
       "22  1982  1.057200e+10   66.097398   154468229  105407.915  9.176000e+09   \n",
       "23  1983  1.211000e+10   71.444780   158009246  104956.874  1.008500e+10   \n",
       "24  1984  1.362200e+10   79.759998   161523347  112184.531  1.128700e+10   \n",
       "25  1985  1.409800e+10   92.056811   164982451  121245.688  1.088400e+10   \n",
       "26  1986  1.950700e+10  104.354756   168374287  121740.733  1.424500e+10   \n",
       "\n",
       "     e_renewable        e_co2  \n",
       "22  1.396000e+09  20053.82449  \n",
       "23  2.025000e+09  20251.41910  \n",
       "24  2.335000e+09  27438.50314  \n",
       "25  3.214000e+09  30018.75003  \n",
       "26  5.262000e+09  32416.40289  "
      ]
     },
     "execution_count": 157,
     "metadata": {},
     "output_type": "execute_result"
    }
   ],
   "source": [
    "data_tanpa_NaN = data[(data[\"year\"]>=1982) & (data[\"year\"]<=2013)]\n",
    "\n",
    "x = data_tanpa_NaN.loc[:, ['e_production','e_use','population', 'total_co2', 'e_fossil', 'e_renewable']] #mengambil semua data kecuali emisi karbon dari listrik\n",
    "y = data_tanpa_NaN[\"e_co2\"] #data emisi karbon dari listrik\n",
    "#X = data_tanpa_NaN.iloc[:,:-1].values\n",
    "#Y = data_tanpa_NaN.iloc[:, 7].values\n",
    "#X=X[:, 1:]\n",
    "\n",
    "data_tanpa_NaN.head()"
   ]
  },
  {
   "cell_type": "code",
   "execution_count": 158,
   "metadata": {},
   "outputs": [],
   "source": [
    "from sklearn.model_selection import train_test_split\n",
    "X_train, X_test, Y_train, Y_test = train_test_split(x, y, test_size = 0.2, random_state = 0)"
   ]
  },
  {
   "cell_type": "code",
   "execution_count": 159,
   "metadata": {},
   "outputs": [
    {
     "data": {
      "text/plain": [
       "LinearRegression(copy_X=True, fit_intercept=True, n_jobs=None, normalize=False)"
      ]
     },
     "execution_count": 159,
     "metadata": {},
     "output_type": "execute_result"
    }
   ],
   "source": [
    "from sklearn.linear_model import LinearRegression\n",
    "linRegressor = LinearRegression()\n",
    "linRegressor.fit(X_train, Y_train)"
   ]
  },
  {
   "cell_type": "code",
   "execution_count": 160,
   "metadata": {},
   "outputs": [],
   "source": [
    "Y_predCO2_1 = linRegressor.predict(X_test)"
   ]
  },
  {
   "cell_type": "code",
   "execution_count": 161,
   "metadata": {},
   "outputs": [
    {
     "name": "stdout",
     "output_type": "stream",
     "text": [
      "98.1582974927268 %\n"
     ]
    }
   ],
   "source": [
    "print(linRegressor.score(X_test, Y_test)*100, \"%\")\n",
    "#akurasi test"
   ]
  },
  {
   "cell_type": "code",
   "execution_count": 162,
   "metadata": {},
   "outputs": [
    {
     "data": {
      "text/plain": [
       "array([ 79158.02392993, 132362.88794583,  71596.84226201,  27023.00367716,\n",
       "        73713.92009018,  94479.37168653, 174792.21318207])"
      ]
     },
     "execution_count": 162,
     "metadata": {},
     "output_type": "execute_result"
    }
   ],
   "source": [
    "Y_predCO2_1"
   ]
  },
  {
   "cell_type": "code",
   "execution_count": 188,
   "metadata": {},
   "outputs": [],
   "source": [
    "from sklearn.neighbors import KNeighborsRegressor\n",
    "neigh = KNeighborsRegressor(n_neighbors=1, metric='euclidean')"
   ]
  },
  {
   "cell_type": "code",
   "execution_count": 189,
   "metadata": {},
   "outputs": [
    {
     "data": {
      "text/plain": [
       "KNeighborsRegressor(algorithm='auto', leaf_size=30, metric='euclidean',\n",
       "                    metric_params=None, n_jobs=None, n_neighbors=1, p=2,\n",
       "                    weights='uniform')"
      ]
     },
     "execution_count": 189,
     "metadata": {},
     "output_type": "execute_result"
    }
   ],
   "source": [
    "neigh.fit(X_train, Y_train)"
   ]
  },
  {
   "cell_type": "code",
   "execution_count": 190,
   "metadata": {},
   "outputs": [
    {
     "name": "stdout",
     "output_type": "stream",
     "text": [
      "95.50538253472213 %\n"
     ]
    },
    {
     "data": {
      "text/plain": [
       "array([ 79157.66636, 124631.4509 ,  67159.89897,  30018.75003,\n",
       "       104647.4794 ,  81800.77543, 180780.1621 ])"
      ]
     },
     "execution_count": 190,
     "metadata": {},
     "output_type": "execute_result"
    }
   ],
   "source": [
    "Y_predCO2_2 = neigh.predict(X_test)\n",
    "print(neigh.score(X_test, Y_test)*100, \"%\")\n",
    "Y_predCO2_2"
   ]
  },
  {
   "cell_type": "code",
   "execution_count": 191,
   "metadata": {},
   "outputs": [
    {
     "name": "stdout",
     "output_type": "stream",
     "text": [
      "20053.82449\n"
     ]
    }
   ],
   "source": [
    "print(neigh.predict(pd.DataFrame([[1000000000,1000000000,1000000000,1000000000,1000000000,1000000000]]))[0])"
   ]
  },
  {
   "cell_type": "code",
   "execution_count": 168,
   "metadata": {},
   "outputs": [],
   "source": [
    "x2 = data_tanpa_NaN.loc[:,['e_production','e_use','population', 'total_co2', 'e_co2']]\n",
    "y2 = data_tanpa_NaN.loc[:,['e_fossil', 'e_renewable']]\n",
    "#X2 = x2.values\n",
    "#Y2 = y2.values\n",
    "#X2=X2[:, 1:]"
   ]
  },
  {
   "cell_type": "code",
   "execution_count": 169,
   "metadata": {},
   "outputs": [
    {
     "data": {
      "text/plain": [
       "LinearRegression(copy_X=True, fit_intercept=True, n_jobs=None, normalize=False)"
      ]
     },
     "execution_count": 169,
     "metadata": {},
     "output_type": "execute_result"
    }
   ],
   "source": [
    "X2_train, X2_test, Y2_train, Y2_test = train_test_split(x2, y2, test_size = 0.2, random_state = 0)\n",
    "linRegressor2 = LinearRegression()\n",
    "linRegressor2.fit(X2_train, Y2_train)"
   ]
  },
  {
   "cell_type": "code",
   "execution_count": 170,
   "metadata": {},
   "outputs": [
    {
     "name": "stdout",
     "output_type": "stream",
     "text": [
      "99.42692989401972 %\n"
     ]
    },
    {
     "name": "stderr",
     "output_type": "stream",
     "text": [
      "c:\\users\\sei\\miniconda3\\envs\\myenv\\lib\\site-packages\\sklearn\\base.py:420: FutureWarning: The default value of multioutput (not exposed in score method) will change from 'variance_weighted' to 'uniform_average' in 0.23 to keep consistent with 'metrics.r2_score'. To specify the default value manually and avoid the warning, please either call 'metrics.r2_score' directly or make a custom scorer with 'metrics.make_scorer' (the built-in scorer 'r2' uses multioutput='uniform_average').\n",
      "  \"multioutput='uniform_average').\", FutureWarning)\n"
     ]
    }
   ],
   "source": [
    "Y_predListrik = linRegressor2.predict(X2_test)\n",
    "print(linRegressor2.score(X2_test, Y2_test)*100, \"%\")"
   ]
  },
  {
   "cell_type": "code",
   "execution_count": 171,
   "metadata": {},
   "outputs": [
    {
     "data": {
      "text/plain": [
       "array([[3.75243440e+10, 7.92135854e+09],\n",
       "       [1.03544015e+11, 1.64695742e+10],\n",
       "       [3.39177134e+10, 7.65526958e+09],\n",
       "       [1.03491014e+10, 3.27931306e+09],\n",
       "       [6.53757227e+10, 1.26267023e+10],\n",
       "       [5.77639109e+10, 9.95071939e+09],\n",
       "       [1.48336944e+11, 2.16486161e+10]])"
      ]
     },
     "execution_count": 171,
     "metadata": {},
     "output_type": "execute_result"
    }
   ],
   "source": [
    "Y_predListrik"
   ]
  },
  {
   "cell_type": "code",
   "execution_count": 184,
   "metadata": {},
   "outputs": [],
   "source": [
    "neigh2 = KNeighborsRegressor(n_neighbors=1, metric='euclidean')"
   ]
  },
  {
   "cell_type": "code",
   "execution_count": 185,
   "metadata": {},
   "outputs": [
    {
     "data": {
      "text/plain": [
       "KNeighborsRegressor(algorithm='auto', leaf_size=30, metric='euclidean',\n",
       "                    metric_params=None, n_jobs=None, n_neighbors=1, p=2,\n",
       "                    weights='uniform')"
      ]
     },
     "execution_count": 185,
     "metadata": {},
     "output_type": "execute_result"
    }
   ],
   "source": [
    "neigh2.fit(X2_train, Y2_train)"
   ]
  },
  {
   "cell_type": "code",
   "execution_count": 186,
   "metadata": {},
   "outputs": [
    {
     "name": "stdout",
     "output_type": "stream",
     "text": [
      "97.59966060166569 %\n"
     ]
    },
    {
     "name": "stderr",
     "output_type": "stream",
     "text": [
      "c:\\users\\sei\\miniconda3\\envs\\myenv\\lib\\site-packages\\sklearn\\base.py:420: FutureWarning: The default value of multioutput (not exposed in score method) will change from 'variance_weighted' to 'uniform_average' in 0.23 to keep consistent with 'metrics.r2_score'. To specify the default value manually and avoid the warning, please either call 'metrics.r2_score' directly or make a custom scorer with 'metrics.make_scorer' (the built-in scorer 'r2' uses multioutput='uniform_average').\n",
      "  \"multioutput='uniform_average').\", FutureWarning)\n"
     ]
    },
    {
     "data": {
      "text/plain": [
       "array([[4.33170000e+10, 8.04100023e+09],\n",
       "       [9.75660000e+10, 1.54080003e+10],\n",
       "       [2.96640000e+10, 7.67600009e+09],\n",
       "       [1.08840000e+10, 3.21400002e+09],\n",
       "       [6.69110000e+10, 7.71600022e+09],\n",
       "       [6.69110000e+10, 7.71600022e+09],\n",
       "       [1.36028000e+11, 2.07459993e+10]])"
      ]
     },
     "execution_count": 186,
     "metadata": {},
     "output_type": "execute_result"
    }
   ],
   "source": [
    "Y2_predListrik = neigh2.predict(X2_test)\n",
    "print(neigh2.score(X2_test, Y2_test)*100, \"%\")\n",
    "Y2_predListrik"
   ]
  },
  {
   "cell_type": "code",
   "execution_count": 187,
   "metadata": {},
   "outputs": [
    {
     "name": "stdout",
     "output_type": "stream",
     "text": [
      "[9.176e+09 1.396e+09]\n"
     ]
    }
   ],
   "source": [
    "print(neigh2.predict(pd.DataFrame([[1000000000,1000000000,1000000000,1000000000,1000000000]]))[0])"
   ]
  },
  {
   "cell_type": "code",
   "execution_count": null,
   "metadata": {},
   "outputs": [],
   "source": []
  }
 ],
 "metadata": {
  "kernelspec": {
   "display_name": "Python 3",
   "language": "python",
   "name": "python3"
  },
  "language_info": {
   "codemirror_mode": {
    "name": "ipython",
    "version": 3
   },
   "file_extension": ".py",
   "mimetype": "text/x-python",
   "name": "python",
   "nbconvert_exporter": "python",
   "pygments_lexer": "ipython3",
   "version": "3.7.5"
  }
 },
 "nbformat": 4,
 "nbformat_minor": 4
}
