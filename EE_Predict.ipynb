{
 "cells": [
  {
   "cell_type": "markdown",
   "metadata": {},
   "source": [
    "<h3>LIBRARY</h3>"
   ]
  },
  {
   "cell_type": "code",
   "execution_count": 1,
   "metadata": {},
   "outputs": [],
   "source": [
    "import pandas as pd\n",
    "import numpy as np"
   ]
  },
  {
   "cell_type": "markdown",
   "metadata": {},
   "source": [
    "<h3>PEMBACAAN DATASET</h3>"
   ]
  },
  {
   "cell_type": "code",
   "execution_count": 2,
   "metadata": {},
   "outputs": [
    {
     "data": {
      "text/html": [
       "<div>\n",
       "<style scoped>\n",
       "    .dataframe tbody tr th:only-of-type {\n",
       "        vertical-align: middle;\n",
       "    }\n",
       "\n",
       "    .dataframe tbody tr th {\n",
       "        vertical-align: top;\n",
       "    }\n",
       "\n",
       "    .dataframe thead th {\n",
       "        text-align: right;\n",
       "    }\n",
       "</style>\n",
       "<table border=\"1\" class=\"dataframe\">\n",
       "  <thead>\n",
       "    <tr style=\"text-align: right;\">\n",
       "      <th></th>\n",
       "      <th>country</th>\n",
       "      <th>ppl_acc</th>\n",
       "      <th>ppl_no_acc</th>\n",
       "      <th>e_non_ebt</th>\n",
       "      <th>e_ebt</th>\n",
       "      <th>e_co2_em</th>\n",
       "    </tr>\n",
       "  </thead>\n",
       "  <tbody>\n",
       "    <tr>\n",
       "      <th>0</th>\n",
       "      <td>Algeria</td>\n",
       "      <td>25464440</td>\n",
       "      <td>447927</td>\n",
       "      <td>314.574536</td>\n",
       "      <td>0.355263</td>\n",
       "      <td>3.463348e+07</td>\n",
       "    </tr>\n",
       "    <tr>\n",
       "      <th>1</th>\n",
       "      <td>Algeria</td>\n",
       "      <td>26123557</td>\n",
       "      <td>430772</td>\n",
       "      <td>311.228686</td>\n",
       "      <td>0.771053</td>\n",
       "      <td>3.467090e+07</td>\n",
       "    </tr>\n",
       "    <tr>\n",
       "      <th>2</th>\n",
       "      <td>Algeria</td>\n",
       "      <td>26768936</td>\n",
       "      <td>412158</td>\n",
       "      <td>319.638446</td>\n",
       "      <td>0.523684</td>\n",
       "      <td>3.498281e+07</td>\n",
       "    </tr>\n",
       "    <tr>\n",
       "      <th>3</th>\n",
       "      <td>Algeria</td>\n",
       "      <td>27393494</td>\n",
       "      <td>392765</td>\n",
       "      <td>296.951167</td>\n",
       "      <td>0.928947</td>\n",
       "      <td>3.654737e+07</td>\n",
       "    </tr>\n",
       "    <tr>\n",
       "      <th>4</th>\n",
       "      <td>Algeria</td>\n",
       "      <td>27988776</td>\n",
       "      <td>373477</td>\n",
       "      <td>301.430246</td>\n",
       "      <td>0.436842</td>\n",
       "      <td>3.936556e+07</td>\n",
       "    </tr>\n",
       "  </tbody>\n",
       "</table>\n",
       "</div>"
      ],
      "text/plain": [
       "   country   ppl_acc  ppl_no_acc   e_non_ebt     e_ebt      e_co2_em\n",
       "0  Algeria  25464440      447927  314.574536  0.355263  3.463348e+07\n",
       "1  Algeria  26123557      430772  311.228686  0.771053  3.467090e+07\n",
       "2  Algeria  26768936      412158  319.638446  0.523684  3.498281e+07\n",
       "3  Algeria  27393494      392765  296.951167  0.928947  3.654737e+07\n",
       "4  Algeria  27988776      373477  301.430246  0.436842  3.936556e+07"
      ]
     },
     "execution_count": 2,
     "metadata": {},
     "output_type": "execute_result"
    }
   ],
   "source": [
    "data = pd.read_csv(\"dataset/EE_data_baru.csv\", index_col=0)\n",
    "data.head()"
   ]
  },
  {
   "cell_type": "code",
   "execution_count": 3,
   "metadata": {},
   "outputs": [
    {
     "data": {
      "text/plain": [
       "(1938, 6)"
      ]
     },
     "execution_count": 3,
     "metadata": {},
     "output_type": "execute_result"
    }
   ],
   "source": [
    "data.shape"
   ]
  },
  {
   "cell_type": "markdown",
   "metadata": {},
   "source": [
    "<h3>OLAH DATA X & Y</h3>"
   ]
  },
  {
   "cell_type": "code",
   "execution_count": 4,
   "metadata": {},
   "outputs": [
    {
     "data": {
      "text/plain": [
       "(1888, 5)"
      ]
     },
     "execution_count": 4,
     "metadata": {},
     "output_type": "execute_result"
    }
   ],
   "source": [
    "data = data.dropna()\n",
    "data = data.drop(columns = ['country'])\n",
    "data.shape"
   ]
  },
  {
   "cell_type": "code",
   "execution_count": 5,
   "metadata": {},
   "outputs": [],
   "source": [
    "x = data.drop(columns = ['e_co2_em']) #mengambil semua data kecuali emisi karbon dari listrik\n",
    "y = data['e_co2_em'] #data emisi karbon dari listrik\n",
    "x2 = data.drop(columns = ['e_ebt', 'e_non_ebt']) #ambil semua data kecuali produksi listrik\n",
    "y2 = data.drop(columns = ['ppl_acc', 'ppl_no_acc', 'e_co2_em']) #ambil semua data kecuali akses listrik dan emisi"
   ]
  },
  {
   "cell_type": "markdown",
   "metadata": {},
   "source": [
    "<h3>MEMBAGI DATA UNTUK TRAIN & TEST</h3>"
   ]
  },
  {
   "cell_type": "code",
   "execution_count": 6,
   "metadata": {},
   "outputs": [],
   "source": [
    "from sklearn.model_selection import train_test_split\n",
    "X_train, X_test, Y_train, Y_test = train_test_split(x, y, test_size = 0.2, random_state = 0)\n",
    "X2_train, X2_test, Y2_train, Y2_test = train_test_split(x2, y2, test_size = 0.2, random_state = 0)"
   ]
  },
  {
   "cell_type": "markdown",
   "metadata": {},
   "source": [
    "<h3>REGRESI LINIER</h3>"
   ]
  },
  {
   "cell_type": "markdown",
   "metadata": {},
   "source": [
    "Memanggil library dan melakukan fitting"
   ]
  },
  {
   "cell_type": "code",
   "execution_count": 7,
   "metadata": {},
   "outputs": [
    {
     "data": {
      "text/plain": [
       "LinearRegression(copy_X=True, fit_intercept=True, n_jobs=None, normalize=False)"
      ]
     },
     "execution_count": 7,
     "metadata": {},
     "output_type": "execute_result"
    }
   ],
   "source": [
    "from sklearn.linear_model import LinearRegression\n",
    "linRegressor = LinearRegression()\n",
    "linRegressor.fit(X_train, Y_train)"
   ]
  },
  {
   "cell_type": "code",
   "execution_count": 8,
   "metadata": {},
   "outputs": [
    {
     "data": {
      "text/plain": [
       "LinearRegression(copy_X=True, fit_intercept=True, n_jobs=None, normalize=False)"
      ]
     },
     "execution_count": 8,
     "metadata": {},
     "output_type": "execute_result"
    }
   ],
   "source": [
    "linRegressor2 = LinearRegression()\n",
    "linRegressor2.fit(X2_train, Y2_train)"
   ]
  },
  {
   "cell_type": "markdown",
   "metadata": {},
   "source": [
    "Melakukan test (prediksi)"
   ]
  },
  {
   "cell_type": "code",
   "execution_count": 9,
   "metadata": {},
   "outputs": [],
   "source": [
    "Y_predCO2_1 = linRegressor.predict(X_test)"
   ]
  },
  {
   "cell_type": "code",
   "execution_count": 10,
   "metadata": {},
   "outputs": [],
   "source": [
    "Y_predListrik_1 = linRegressor2.predict(X2_test)"
   ]
  },
  {
   "cell_type": "markdown",
   "metadata": {},
   "source": [
    "Akurasi dari test (koefisien determinasi)"
   ]
  },
  {
   "cell_type": "code",
   "execution_count": 11,
   "metadata": {},
   "outputs": [
    {
     "name": "stdout",
     "output_type": "stream",
     "text": [
      "Akurasi prediksi emisi CO2: 99.67118490348595 %\n",
      "Akurasi prediksi produksi listrik: 99.5736199838812 %\n"
     ]
    },
    {
     "name": "stderr",
     "output_type": "stream",
     "text": [
      "c:\\users\\sei\\miniconda3\\envs\\myenv\\lib\\site-packages\\sklearn\\base.py:420: FutureWarning: The default value of multioutput (not exposed in score method) will change from 'variance_weighted' to 'uniform_average' in 0.23 to keep consistent with 'metrics.r2_score'. To specify the default value manually and avoid the warning, please either call 'metrics.r2_score' directly or make a custom scorer with 'metrics.make_scorer' (the built-in scorer 'r2' uses multioutput='uniform_average').\n",
      "  \"multioutput='uniform_average').\", FutureWarning)\n"
     ]
    }
   ],
   "source": [
    "print('Akurasi prediksi emisi CO2:', linRegressor.score(X_test, Y_test)*100, \"%\")\n",
    "print('Akurasi prediksi produksi listrik:', linRegressor2.score(X2_test, Y2_test)*100, \"%\")\n",
    "#akurasi test"
   ]
  },
  {
   "cell_type": "markdown",
   "metadata": {},
   "source": [
    "Hasil prediksi"
   ]
  },
  {
   "cell_type": "code",
   "execution_count": 12,
   "metadata": {},
   "outputs": [
    {
     "data": {
      "text/plain": [
       "27064197.482877895"
      ]
     },
     "execution_count": 12,
     "metadata": {},
     "output_type": "execute_result"
    }
   ],
   "source": [
    "Y_predCO2_1[0]\n",
    "#hanya di print yang index 0 untuk mempersingkat output notebook saja"
   ]
  },
  {
   "cell_type": "code",
   "execution_count": 13,
   "metadata": {},
   "outputs": [
    {
     "data": {
      "text/plain": [
       "array([486.85130011,  30.31849228])"
      ]
     },
     "execution_count": 13,
     "metadata": {},
     "output_type": "execute_result"
    }
   ],
   "source": [
    "Y_predListrik_1[0]"
   ]
  },
  {
   "cell_type": "markdown",
   "metadata": {},
   "source": [
    "<h3>REGRESI K NEIGHBOR</h3>"
   ]
  },
  {
   "cell_type": "markdown",
   "metadata": {},
   "source": [
    "Memanggil library dan melakukan pengaturan jumlah neighbor dan metric yang digunakan"
   ]
  },
  {
   "cell_type": "code",
   "execution_count": 14,
   "metadata": {},
   "outputs": [],
   "source": [
    "from sklearn.neighbors import KNeighborsRegressor\n",
    "neigh = KNeighborsRegressor(n_neighbors=3, metric='euclidean')\n",
    "neigh2 = KNeighborsRegressor(n_neighbors=1, metric='euclidean')"
   ]
  },
  {
   "cell_type": "code",
   "execution_count": 15,
   "metadata": {},
   "outputs": [
    {
     "data": {
      "text/plain": [
       "KNeighborsRegressor(algorithm='auto', leaf_size=30, metric='euclidean',\n",
       "                    metric_params=None, n_jobs=None, n_neighbors=3, p=2,\n",
       "                    weights='uniform')"
      ]
     },
     "execution_count": 15,
     "metadata": {},
     "output_type": "execute_result"
    }
   ],
   "source": [
    "neigh.fit(X_train, Y_train)"
   ]
  },
  {
   "cell_type": "code",
   "execution_count": 16,
   "metadata": {},
   "outputs": [
    {
     "data": {
      "text/plain": [
       "KNeighborsRegressor(algorithm='auto', leaf_size=30, metric='euclidean',\n",
       "                    metric_params=None, n_jobs=None, n_neighbors=1, p=2,\n",
       "                    weights='uniform')"
      ]
     },
     "execution_count": 16,
     "metadata": {},
     "output_type": "execute_result"
    }
   ],
   "source": [
    "neigh2.fit(X2_train, Y2_train)"
   ]
  },
  {
   "cell_type": "markdown",
   "metadata": {},
   "source": [
    "Melakukan prediksi dan mengkalkulasi akurasi hasil prediksi / test"
   ]
  },
  {
   "cell_type": "code",
   "execution_count": 17,
   "metadata": {},
   "outputs": [
    {
     "name": "stdout",
     "output_type": "stream",
     "text": [
      "Akurasi prediksi emisi CO2: 99.65119798694417 %\n",
      "Akurasi prediksi produksi lisrik: 99.92870334408262 %\n"
     ]
    },
    {
     "name": "stderr",
     "output_type": "stream",
     "text": [
      "c:\\users\\sei\\miniconda3\\envs\\myenv\\lib\\site-packages\\sklearn\\base.py:420: FutureWarning: The default value of multioutput (not exposed in score method) will change from 'variance_weighted' to 'uniform_average' in 0.23 to keep consistent with 'metrics.r2_score'. To specify the default value manually and avoid the warning, please either call 'metrics.r2_score' directly or make a custom scorer with 'metrics.make_scorer' (the built-in scorer 'r2' uses multioutput='uniform_average').\n",
      "  \"multioutput='uniform_average').\", FutureWarning)\n"
     ]
    }
   ],
   "source": [
    "Y_predCO2_2 = neigh.predict(X_test)\n",
    "print('Akurasi prediksi emisi CO2:', neigh.score(X_test, Y_test)*100, \"%\")\n",
    "Y_predListrik_2 = neigh2.predict(X2_test)\n",
    "print('Akurasi prediksi produksi lisrik:', neigh2.score(X2_test, Y2_test)*100, \"%\")"
   ]
  },
  {
   "cell_type": "markdown",
   "metadata": {},
   "source": [
    "Mencetak hasil prediksi"
   ]
  },
  {
   "cell_type": "code",
   "execution_count": 18,
   "metadata": {},
   "outputs": [
    {
     "data": {
      "text/plain": [
       "21635164.36411867"
      ]
     },
     "execution_count": 18,
     "metadata": {},
     "output_type": "execute_result"
    }
   ],
   "source": [
    "Y_predCO2_2[0]"
   ]
  },
  {
   "cell_type": "code",
   "execution_count": 19,
   "metadata": {},
   "outputs": [
    {
     "data": {
      "text/plain": [
       "array([3.33169754e+02, 5.00000000e-02])"
      ]
     },
     "execution_count": 19,
     "metadata": {},
     "output_type": "execute_result"
    }
   ],
   "source": [
    "Y_predListrik_2[0]"
   ]
  },
  {
   "cell_type": "markdown",
   "metadata": {},
   "source": [
    "<h3>REGRESI RIDGE</h3>"
   ]
  },
  {
   "cell_type": "markdown",
   "metadata": {},
   "source": [
    "Memanggil library dan melakukan fitting"
   ]
  },
  {
   "cell_type": "code",
   "execution_count": 20,
   "metadata": {},
   "outputs": [],
   "source": [
    "from sklearn.linear_model import Ridge"
   ]
  },
  {
   "cell_type": "code",
   "execution_count": 21,
   "metadata": {},
   "outputs": [
    {
     "data": {
      "text/plain": [
       "Ridge(alpha=1.0, copy_X=True, fit_intercept=True, max_iter=None,\n",
       "      normalize=False, random_state=None, solver='auto', tol=0.001)"
      ]
     },
     "execution_count": 21,
     "metadata": {},
     "output_type": "execute_result"
    }
   ],
   "source": [
    "ridgeRegressor = Ridge()\n",
    "ridgeRegressor.fit(X_train, Y_train)"
   ]
  },
  {
   "cell_type": "code",
   "execution_count": 22,
   "metadata": {},
   "outputs": [
    {
     "data": {
      "text/plain": [
       "Ridge(alpha=1.0, copy_X=True, fit_intercept=True, max_iter=None,\n",
       "      normalize=False, random_state=None, solver='auto', tol=0.001)"
      ]
     },
     "execution_count": 22,
     "metadata": {},
     "output_type": "execute_result"
    }
   ],
   "source": [
    "ridgeRegressor2 = Ridge()\n",
    "ridgeRegressor2.fit(X2_train, Y2_train)"
   ]
  },
  {
   "cell_type": "markdown",
   "metadata": {},
   "source": [
    "Melakukan test (prediksi)"
   ]
  },
  {
   "cell_type": "code",
   "execution_count": 23,
   "metadata": {},
   "outputs": [],
   "source": [
    "Y_predCO2_3 = ridgeRegressor.predict(X_test)"
   ]
  },
  {
   "cell_type": "code",
   "execution_count": 24,
   "metadata": {},
   "outputs": [],
   "source": [
    "Y_predListrik_3 = ridgeRegressor2.predict(X2_test)"
   ]
  },
  {
   "cell_type": "markdown",
   "metadata": {},
   "source": [
    "Akurasi dari test (koefisien determinasi)"
   ]
  },
  {
   "cell_type": "code",
   "execution_count": 25,
   "metadata": {},
   "outputs": [
    {
     "name": "stdout",
     "output_type": "stream",
     "text": [
      "Akurasi prediksi emisi CO2: 99.67118490347482 %\n",
      "Akurasi prediksi produksi listrik: 99.5736199838812 %\n"
     ]
    },
    {
     "name": "stderr",
     "output_type": "stream",
     "text": [
      "c:\\users\\sei\\miniconda3\\envs\\myenv\\lib\\site-packages\\sklearn\\base.py:420: FutureWarning: The default value of multioutput (not exposed in score method) will change from 'variance_weighted' to 'uniform_average' in 0.23 to keep consistent with 'metrics.r2_score'. To specify the default value manually and avoid the warning, please either call 'metrics.r2_score' directly or make a custom scorer with 'metrics.make_scorer' (the built-in scorer 'r2' uses multioutput='uniform_average').\n",
      "  \"multioutput='uniform_average').\", FutureWarning)\n"
     ]
    }
   ],
   "source": [
    "print('Akurasi prediksi emisi CO2:', ridgeRegressor.score(X_test, Y_test)*100, \"%\")\n",
    "print('Akurasi prediksi produksi listrik:', ridgeRegressor2.score(X2_test, Y2_test)*100, \"%\")\n",
    "#akurasi test"
   ]
  },
  {
   "cell_type": "markdown",
   "metadata": {},
   "source": [
    "Hasil prediksi"
   ]
  },
  {
   "cell_type": "code",
   "execution_count": 26,
   "metadata": {},
   "outputs": [
    {
     "data": {
      "text/plain": [
       "27064197.489905715"
      ]
     },
     "execution_count": 26,
     "metadata": {},
     "output_type": "execute_result"
    }
   ],
   "source": [
    "Y_predCO2_3[0]\n",
    "#hanya di print yang index 0 untuk mempersingkat output notebook saja"
   ]
  },
  {
   "cell_type": "code",
   "execution_count": 27,
   "metadata": {},
   "outputs": [
    {
     "data": {
      "text/plain": [
       "array([486.85130011,  30.31849228])"
      ]
     },
     "execution_count": 27,
     "metadata": {},
     "output_type": "execute_result"
    }
   ],
   "source": [
    "Y_predListrik_3[0]"
   ]
  },
  {
   "cell_type": "markdown",
   "metadata": {},
   "source": [
    "<h3>PREDIKSI MENGGUNAKAN INPUT PENGGUNA (semua regresi)</h3>"
   ]
  },
  {
   "cell_type": "markdown",
   "metadata": {},
   "source": [
    "Menerima input dari user untuk prediksi emisi karbon"
   ]
  },
  {
   "cell_type": "code",
   "execution_count": 23,
   "metadata": {},
   "outputs": [
    {
     "name": "stdout",
     "output_type": "stream",
     "text": [
      "Populasi dengan akses listrik: \n",
      "10000\n",
      "Populasi tanpa akses listrik: \n",
      "5000\n",
      "Produksi listrik non ebt (TWh): \n",
      "100\n",
      "Produksi listrik ebt (TWh)\n",
      "50\n"
     ]
    }
   ],
   "source": [
    "print('Populasi dengan akses : ')\n",
    "ppl_acc = input()\n",
    "print('Populasi tanpa akses listrik: ')\n",
    "ppl_no_acc = input()\n",
    "print('Produksi listrik non ebt (TWh): ')\n",
    "e_non_ebt = input()\n",
    "print('Produksi listrik ebt (TWh)')\n",
    "e_ebt = input()"
   ]
  },
  {
   "cell_type": "code",
   "execution_count": 29,
   "metadata": {},
   "outputs": [],
   "source": [
    "ppl_acc = 6232831242\n",
    "ppl_no_acc = 1038491579\n",
    "e_non_ebt = 136554.\n",
    "e_ebt = 013934.85412\n",
    "true_co2_em = 17412127356\n",
    "#data world idx terakhir"
   ]
  },
  {
   "cell_type": "markdown",
   "metadata": {},
   "source": [
    "Prediksi dari input user"
   ]
  },
  {
   "cell_type": "code",
   "execution_count": 30,
   "metadata": {},
   "outputs": [
    {
     "name": "stdout",
     "output_type": "stream",
     "text": [
      "linier, CO2: 17174233003.089338 ton\n",
      "kNN, CO2: 16626729937.078962 ton\n",
      "ridge, CO2: 17174233000.93338 ton\n"
     ]
    }
   ],
   "source": [
    "predDataEm1 = linRegressor.predict(pd.DataFrame(\n",
    "    [[ppl_acc, ppl_no_acc, e_non_ebt, e_ebt]]))[0]\n",
    "print(\"linier, CO2:\",predDataEm1, 'ton') #linier\n",
    "\n",
    "predDataEm2 = neigh.predict(pd.DataFrame(\n",
    "    [[ppl_acc, ppl_no_acc, e_non_ebt, e_ebt]]))[0]\n",
    "print(\"kNN, CO2:\",predDataEm2, 'ton') #kNN\n",
    "\n",
    "predDataEm3 = ridgeRegressor.predict(pd.DataFrame(\n",
    "    [[ppl_acc, ppl_no_acc, e_non_ebt, e_ebt]]))[0]\n",
    "print(\"ridge, CO2:\",predDataEm3, 'ton') #ridge"
   ]
  },
  {
   "cell_type": "markdown",
   "metadata": {},
   "source": [
    "Error  relatif dari prediksi emisi karbon"
   ]
  },
  {
   "cell_type": "code",
   "execution_count": 31,
   "metadata": {},
   "outputs": [
    {
     "name": "stdout",
     "output_type": "stream",
     "text": [
      "Error relatif CO2 (linier): 1.366256678731943 %\n",
      "Error relatif CO2 (kNN): 4.510634472532729 %\n",
      "Error relatif CO2 (ridge): 1.3662566911138774 %\n"
     ]
    }
   ],
   "source": [
    "print('Error relatif CO2 (linier):', abs(true_co2_em-predDataEm1)/true_co2_em*100,\"%\")\n",
    "print('Error relatif CO2 (kNN):', abs(true_co2_em-predDataEm2)/true_co2_em*100,\"%\")\n",
    "print('Error relatif CO2 (ridge):', abs(true_co2_em-predDataEm3)/true_co2_em*100,\"%\")"
   ]
  },
  {
   "cell_type": "markdown",
   "metadata": {},
   "source": [
    "Menerima input dari user untuk prediksi produksi listrik"
   ]
  },
  {
   "cell_type": "code",
   "execution_count": 29,
   "metadata": {},
   "outputs": [
    {
     "name": "stdout",
     "output_type": "stream",
     "text": [
      "Populasi dengan akses listrik: \n",
      "2000\n",
      "Populasi tanpa akses listrik: \n",
      "1000\n",
      "Goal emisi karbon (ton): \n",
      "100\n"
     ]
    }
   ],
   "source": [
    "print('Populasi dengan akses listrik: ')\n",
    "ppl_acc = input()\n",
    "print('Populasi tanpa akses listrik: ')\n",
    "ppl_no_acc = input()\n",
    "print('Goal emisi karbon (ton): ')\n",
    "e_co2_em = input()"
   ]
  },
  {
   "cell_type": "code",
   "execution_count": 32,
   "metadata": {},
   "outputs": [],
   "source": [
    "ppl_acc = 6232831242\n",
    "ppl_no_acc = 1038491579\n",
    "e_co2_em = 17412127356\n",
    "true_PL = [136554.648, 013934.85412]\n",
    "#data world idx terakhir"
   ]
  },
  {
   "cell_type": "markdown",
   "metadata": {},
   "source": [
    "Prediksi dari input user"
   ]
  },
  {
   "cell_type": "code",
   "execution_count": 33,
   "metadata": {},
   "outputs": [
    {
     "name": "stdout",
     "output_type": "stream",
     "text": [
      "linier, listrik: [139599.25599337  10911.46836603] TWh\n",
      "kNN, listrik: [135822.429782   13267.5000285] TWh\n",
      "ridge, listrik: [139599.25599337  10911.46836603] TWh\n"
     ]
    }
   ],
   "source": [
    "predDataPL1 = linRegressor2.predict(pd.DataFrame([[ppl_acc, ppl_no_acc, e_co2_em]]))[0]\n",
    "print(\"linier, listrik:\", predDataPL1, 'TWh')\n",
    "\n",
    "predDataPL2 = neigh2.predict(pd.DataFrame([[ppl_acc, ppl_no_acc, e_co2_em]]))[0]\n",
    "print(\"kNN, listrik:\", predDataPL2, 'TWh')\n",
    "\n",
    "predDataPL3 = ridgeRegressor2.predict(pd.DataFrame([[ppl_acc, ppl_no_acc, e_co2_em]]))[0]\n",
    "print(\"ridge, listrik:\", predDataPL3, 'TWh')"
   ]
  },
  {
   "cell_type": "markdown",
   "metadata": {},
   "source": [
    "Error relatif dari prediksi listrik"
   ]
  },
  {
   "cell_type": "code",
   "execution_count": 34,
   "metadata": {},
   "outputs": [
    {
     "name": "stdout",
     "output_type": "stream",
     "text": [
      "Error relatif listrik (linier): [ 2.22958943 21.69657269] %\n",
      "Error relatif listrik (kNN): [0.53620893 4.78909995] %\n",
      "Error relatif listrik (ridge): [ 2.22958943 21.69657269] %\n"
     ]
    }
   ],
   "source": [
    "print('Error relatif listrik (linier):', abs(true_PL-predDataPL1)/true_PL*100,\"%\")\n",
    "print('Error relatif listrik (kNN):', abs(true_PL-predDataPL2)/true_PL*100,\"%\")\n",
    "print('Error relatif listrik (ridge):', abs(true_PL-predDataPL3)/true_PL*100,\"%\")"
   ]
  },
  {
   "cell_type": "code",
   "execution_count": null,
   "metadata": {},
   "outputs": [],
   "source": []
  }
 ],
 "metadata": {
  "kernelspec": {
   "display_name": "Python 3",
   "language": "python",
   "name": "python3"
  },
  "language_info": {
   "codemirror_mode": {
    "name": "ipython",
    "version": 3
   },
   "file_extension": ".py",
   "mimetype": "text/x-python",
   "name": "python",
   "nbconvert_exporter": "python",
   "pygments_lexer": "ipython3",
   "version": "3.7.5"
  }
 },
 "nbformat": 4,
 "nbformat_minor": 4
}
