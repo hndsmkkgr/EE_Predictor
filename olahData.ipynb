{
 "cells": [
  {
   "cell_type": "code",
   "execution_count": 13,
   "metadata": {},
   "outputs": [],
   "source": [
    "import pandas as pd\n",
    "import numpy as np\n",
    "import matplotlib.pyplot as plt\n",
    "import seaborn as sns\n",
    "%matplotlib inline"
   ]
  },
  {
   "cell_type": "code",
   "execution_count": 3,
   "metadata": {},
   "outputs": [],
   "source": [
    "#tes gabungin dataset\n",
    "co2_em_p = pd.read_csv('dataset/co2%.csv')\n",
    "co2_em = pd.read_csv('dataset/co2total.csv')\n",
    "gdp = pd.read_csv('dataset/gdp.csv')\n",
    "e_prod = pd.read_csv('dataset/e_prod.csv')\n",
    "e_acc = pd.read_csv('dataset/e_access.csv')"
   ]
  },
  {
   "cell_type": "code",
   "execution_count": 4,
   "metadata": {},
   "outputs": [
    {
     "data": {
      "text/html": [
       "<div>\n",
       "<style scoped>\n",
       "    .dataframe tbody tr th:only-of-type {\n",
       "        vertical-align: middle;\n",
       "    }\n",
       "\n",
       "    .dataframe tbody tr th {\n",
       "        vertical-align: top;\n",
       "    }\n",
       "\n",
       "    .dataframe thead th {\n",
       "        text-align: right;\n",
       "    }\n",
       "</style>\n",
       "<table border=\"1\" class=\"dataframe\">\n",
       "  <thead>\n",
       "    <tr style=\"text-align: right;\">\n",
       "      <th></th>\n",
       "      <th>Entity</th>\n",
       "      <th>Year</th>\n",
       "      <th>CO2_e_electricity</th>\n",
       "    </tr>\n",
       "  </thead>\n",
       "  <tbody>\n",
       "    <tr>\n",
       "      <th>5883</th>\n",
       "      <td>Zimbabwe</td>\n",
       "      <td>2010</td>\n",
       "      <td>4.069355e+06</td>\n",
       "    </tr>\n",
       "    <tr>\n",
       "      <th>5884</th>\n",
       "      <td>Zimbabwe</td>\n",
       "      <td>2011</td>\n",
       "      <td>5.124978e+06</td>\n",
       "    </tr>\n",
       "    <tr>\n",
       "      <th>5885</th>\n",
       "      <td>Zimbabwe</td>\n",
       "      <td>2012</td>\n",
       "      <td>3.740739e+06</td>\n",
       "    </tr>\n",
       "    <tr>\n",
       "      <th>5886</th>\n",
       "      <td>Zimbabwe</td>\n",
       "      <td>2013</td>\n",
       "      <td>6.650995e+06</td>\n",
       "    </tr>\n",
       "    <tr>\n",
       "      <th>5887</th>\n",
       "      <td>Zimbabwe</td>\n",
       "      <td>2014</td>\n",
       "      <td>7.053713e+06</td>\n",
       "    </tr>\n",
       "  </tbody>\n",
       "</table>\n",
       "</div>"
      ],
      "text/plain": [
       "        Entity  Year  CO2_e_electricity\n",
       "5883  Zimbabwe  2010       4.069355e+06\n",
       "5884  Zimbabwe  2011       5.124978e+06\n",
       "5885  Zimbabwe  2012       3.740739e+06\n",
       "5886  Zimbabwe  2013       6.650995e+06\n",
       "5887  Zimbabwe  2014       7.053713e+06"
      ]
     },
     "execution_count": 4,
     "metadata": {},
     "output_type": "execute_result"
    }
   ],
   "source": [
    "e_co2 = pd.merge(co2_em_p, co2_em)\n",
    "e_co2['CO2_e_electricity'] = (e_co2['Electricity and heat production (%)']/100)* e_co2['Annual CO2 emissions (tonnes )']\n",
    "e_co2 = e_co2.drop(columns = [\n",
    "                        'Electricity and heat production (%)', 'Manufacturing industries & construction (%)',\n",
    "                        'Other sectors (%)', 'Residential buildings & commercial and public services (%)',\n",
    "                        'Annual CO2 emissions (tonnes )', 'Transport (%)'])\n",
    "e_co2.tail()#co2 dalam ton"
   ]
  },
  {
   "cell_type": "code",
   "execution_count": 5,
   "metadata": {},
   "outputs": [
    {
     "data": {
      "text/html": [
       "<div>\n",
       "<style scoped>\n",
       "    .dataframe tbody tr th:only-of-type {\n",
       "        vertical-align: middle;\n",
       "    }\n",
       "\n",
       "    .dataframe tbody tr th {\n",
       "        vertical-align: top;\n",
       "    }\n",
       "\n",
       "    .dataframe thead th {\n",
       "        text-align: right;\n",
       "    }\n",
       "</style>\n",
       "<table border=\"1\" class=\"dataframe\">\n",
       "  <thead>\n",
       "    <tr style=\"text-align: right;\">\n",
       "      <th></th>\n",
       "      <th>Entity</th>\n",
       "      <th>Year</th>\n",
       "      <th>e_non_ebt</th>\n",
       "      <th>e_ebt</th>\n",
       "    </tr>\n",
       "  </thead>\n",
       "  <tbody>\n",
       "    <tr>\n",
       "      <th>5221</th>\n",
       "      <td>World</td>\n",
       "      <td>2014</td>\n",
       "      <td>136554.648017</td>\n",
       "      <td>13934.854121</td>\n",
       "    </tr>\n",
       "    <tr>\n",
       "      <th>5222</th>\n",
       "      <td>World</td>\n",
       "      <td>2015</td>\n",
       "      <td>137212.149146</td>\n",
       "      <td>14507.914019</td>\n",
       "    </tr>\n",
       "    <tr>\n",
       "      <th>5223</th>\n",
       "      <td>World</td>\n",
       "      <td>2016</td>\n",
       "      <td>138428.383922</td>\n",
       "      <td>15420.049437</td>\n",
       "    </tr>\n",
       "    <tr>\n",
       "      <th>5224</th>\n",
       "      <td>World</td>\n",
       "      <td>2017</td>\n",
       "      <td>140309.817458</td>\n",
       "      <td>16399.805790</td>\n",
       "    </tr>\n",
       "    <tr>\n",
       "      <th>5225</th>\n",
       "      <td>World</td>\n",
       "      <td>2018</td>\n",
       "      <td>143686.759836</td>\n",
       "      <td>17561.825805</td>\n",
       "    </tr>\n",
       "  </tbody>\n",
       "</table>\n",
       "</div>"
      ],
      "text/plain": [
       "     Entity  Year      e_non_ebt         e_ebt\n",
       "5221  World  2014  136554.648017  13934.854121\n",
       "5222  World  2015  137212.149146  14507.914019\n",
       "5223  World  2016  138428.383922  15420.049437\n",
       "5224  World  2017  140309.817458  16399.805790\n",
       "5225  World  2018  143686.759836  17561.825805"
      ]
     },
     "execution_count": 5,
     "metadata": {},
     "output_type": "execute_result"
    }
   ],
   "source": [
    "e_prod['e_non_ebt'] = (e_prod['Coal (terrawatt-hours)'] + e_prod['Gas (terrawatt-hours)'] +\n",
    "                      e_prod['Nuclear (terrawatt-hours)'] + e_prod['Oil (terrawatt-hours)'])\n",
    "e_prod['e_ebt'] = (e_prod['Hydropower (terrawatt-hours)'] + e_prod['Solar (terrawatt-hours)'] +\n",
    "                  e_prod['Wind (terrawatt-hours)'] + e_prod['Other renewables (terawatt-hours)'])\n",
    "e_prod = e_prod.drop(columns = ['Coal (terrawatt-hours)', 'Gas (terrawatt-hours)',\n",
    "                 'Nuclear (terrawatt-hours)', 'Oil (terrawatt-hours)', 'Hydropower (terrawatt-hours)',\n",
    "                 'Solar (terrawatt-hours)', 'Wind (terrawatt-hours)', 'Other renewables (terawatt-hours)'])\n",
    "e_prod.tail()#satuan TWh"
   ]
  },
  {
   "cell_type": "code",
   "execution_count": 8,
   "metadata": {},
   "outputs": [
    {
     "data": {
      "text/plain": [
       "(1935, 8)"
      ]
     },
     "execution_count": 8,
     "metadata": {},
     "output_type": "execute_result"
    }
   ],
   "source": [
    "ds1 = pd.merge(e_acc, gdp)\n",
    "ds2 = pd.merge(e_prod, e_co2)\n",
    "\n",
    "dataset = pd.merge(ds1, ds2)\n",
    "dataset.shape"
   ]
  },
  {
   "cell_type": "code",
   "execution_count": 9,
   "metadata": {},
   "outputs": [
    {
     "data": {
      "text/html": [
       "<div>\n",
       "<style scoped>\n",
       "    .dataframe tbody tr th:only-of-type {\n",
       "        vertical-align: middle;\n",
       "    }\n",
       "\n",
       "    .dataframe tbody tr th {\n",
       "        vertical-align: top;\n",
       "    }\n",
       "\n",
       "    .dataframe thead th {\n",
       "        text-align: right;\n",
       "    }\n",
       "</style>\n",
       "<table border=\"1\" class=\"dataframe\">\n",
       "  <thead>\n",
       "    <tr style=\"text-align: right;\">\n",
       "      <th></th>\n",
       "      <th>country</th>\n",
       "      <th>year</th>\n",
       "      <th>ppl_acc</th>\n",
       "      <th>ppl_no_acc</th>\n",
       "      <th>gdp_capita</th>\n",
       "      <th>e_non_ebt</th>\n",
       "      <th>e_ebt</th>\n",
       "      <th>e_co2_em</th>\n",
       "    </tr>\n",
       "  </thead>\n",
       "  <tbody>\n",
       "    <tr>\n",
       "      <th>1930</th>\n",
       "      <td>World</td>\n",
       "      <td>2010</td>\n",
       "      <td>5791533844</td>\n",
       "      <td>1141335899</td>\n",
       "      <td>12937</td>\n",
       "      <td>129703.614581</td>\n",
       "      <td>11018.679190</td>\n",
       "      <td>1.612553e+10</td>\n",
       "    </tr>\n",
       "    <tr>\n",
       "      <th>1931</th>\n",
       "      <td>World</td>\n",
       "      <td>2011</td>\n",
       "      <td>5787556419</td>\n",
       "      <td>1227427549</td>\n",
       "      <td>13587</td>\n",
       "      <td>132678.958529</td>\n",
       "      <td>11576.132383</td>\n",
       "      <td>1.693330e+10</td>\n",
       "    </tr>\n",
       "    <tr>\n",
       "      <th>1932</th>\n",
       "      <td>World</td>\n",
       "      <td>2012</td>\n",
       "      <td>6039529788</td>\n",
       "      <td>1060027861</td>\n",
       "      <td>13821</td>\n",
       "      <td>133826.149910</td>\n",
       "      <td>12426.832819</td>\n",
       "      <td>1.727362e+10</td>\n",
       "    </tr>\n",
       "    <tr>\n",
       "      <th>1933</th>\n",
       "      <td>World</td>\n",
       "      <td>2013</td>\n",
       "      <td>6120924477</td>\n",
       "      <td>1064213049</td>\n",
       "      <td>14038</td>\n",
       "      <td>135822.429782</td>\n",
       "      <td>13267.500029</td>\n",
       "      <td>1.738380e+10</td>\n",
       "    </tr>\n",
       "    <tr>\n",
       "      <th>1934</th>\n",
       "      <td>World</td>\n",
       "      <td>2014</td>\n",
       "      <td>6232831242</td>\n",
       "      <td>1038491579</td>\n",
       "      <td>14261</td>\n",
       "      <td>136554.648017</td>\n",
       "      <td>13934.854121</td>\n",
       "      <td>1.741213e+10</td>\n",
       "    </tr>\n",
       "  </tbody>\n",
       "</table>\n",
       "</div>"
      ],
      "text/plain": [
       "     country  year     ppl_acc  ppl_no_acc  gdp_capita      e_non_ebt  \\\n",
       "1930   World  2010  5791533844  1141335899       12937  129703.614581   \n",
       "1931   World  2011  5787556419  1227427549       13587  132678.958529   \n",
       "1932   World  2012  6039529788  1060027861       13821  133826.149910   \n",
       "1933   World  2013  6120924477  1064213049       14038  135822.429782   \n",
       "1934   World  2014  6232831242  1038491579       14261  136554.648017   \n",
       "\n",
       "             e_ebt      e_co2_em  \n",
       "1930  11018.679190  1.612553e+10  \n",
       "1931  11576.132383  1.693330e+10  \n",
       "1932  12426.832819  1.727362e+10  \n",
       "1933  13267.500029  1.738380e+10  \n",
       "1934  13934.854121  1.741213e+10  "
      ]
     },
     "execution_count": 9,
     "metadata": {},
     "output_type": "execute_result"
    }
   ],
   "source": [
    "dataset.columns = ['country','year','ppl_acc','ppl_no_acc', 'gdp_capita', 'e_non_ebt', 'e_ebt', 'e_co2_em']\n",
    "dataset.tail()"
   ]
  },
  {
   "cell_type": "code",
   "execution_count": 11,
   "metadata": {},
   "outputs": [],
   "source": [
    "#dataset.to_csv('dataset/EE_data.csv')\n",
    "#export dataset baru"
   ]
  },
  {
   "cell_type": "code",
   "execution_count": 22,
   "metadata": {},
   "outputs": [
    {
     "data": {
      "text/plain": [
       "<matplotlib.axes._subplots.AxesSubplot at 0x23c14d08ac8>"
      ]
     },
     "execution_count": 22,
     "metadata": {},
     "output_type": "execute_result"
    },
    {
     "data": {
      "image/png": "[encoded data removed]",
      "text/plain": [
       "<Figure size 432x288 with 2 Axes>"
      ]
     },
     "metadata": {
      "needs_background": "light"
     },
     "output_type": "display_data"
    }
   ],
   "source": [
    "sns.heatmap(dataset.corr(), annot = True)\n",
    "#makin dekat 1 makin baik"
   ]
  },
  {
   "cell_type": "code",
   "execution_count": 15,
   "metadata": {},
   "outputs": [
    {
     "data": {
      "text/html": [
       "<div>\n",
       "<style scoped>\n",
       "    .dataframe tbody tr th:only-of-type {\n",
       "        vertical-align: middle;\n",
       "    }\n",
       "\n",
       "    .dataframe tbody tr th {\n",
       "        vertical-align: top;\n",
       "    }\n",
       "\n",
       "    .dataframe thead th {\n",
       "        text-align: right;\n",
       "    }\n",
       "</style>\n",
       "<table border=\"1\" class=\"dataframe\">\n",
       "  <thead>\n",
       "    <tr style=\"text-align: right;\">\n",
       "      <th></th>\n",
       "      <th>Entity</th>\n",
       "      <th>Year</th>\n",
       "      <th>People with access to electricity (people with electricity)</th>\n",
       "      <th>People without access to electricity (people without electricity access)</th>\n",
       "      <th>e_non_ebt</th>\n",
       "      <th>e_ebt</th>\n",
       "      <th>CO2_e_electricity</th>\n",
       "    </tr>\n",
       "  </thead>\n",
       "  <tbody>\n",
       "    <tr>\n",
       "      <th>1933</th>\n",
       "      <td>World</td>\n",
       "      <td>2010</td>\n",
       "      <td>5791533844</td>\n",
       "      <td>1141335899</td>\n",
       "      <td>129703.614581</td>\n",
       "      <td>11018.679190</td>\n",
       "      <td>1.612553e+10</td>\n",
       "    </tr>\n",
       "    <tr>\n",
       "      <th>1934</th>\n",
       "      <td>World</td>\n",
       "      <td>2011</td>\n",
       "      <td>5787556419</td>\n",
       "      <td>1227427549</td>\n",
       "      <td>132678.958529</td>\n",
       "      <td>11576.132383</td>\n",
       "      <td>1.693330e+10</td>\n",
       "    </tr>\n",
       "    <tr>\n",
       "      <th>1935</th>\n",
       "      <td>World</td>\n",
       "      <td>2012</td>\n",
       "      <td>6039529788</td>\n",
       "      <td>1060027861</td>\n",
       "      <td>133826.149910</td>\n",
       "      <td>12426.832819</td>\n",
       "      <td>1.727362e+10</td>\n",
       "    </tr>\n",
       "    <tr>\n",
       "      <th>1936</th>\n",
       "      <td>World</td>\n",
       "      <td>2013</td>\n",
       "      <td>6120924477</td>\n",
       "      <td>1064213049</td>\n",
       "      <td>135822.429782</td>\n",
       "      <td>13267.500029</td>\n",
       "      <td>1.738380e+10</td>\n",
       "    </tr>\n",
       "    <tr>\n",
       "      <th>1937</th>\n",
       "      <td>World</td>\n",
       "      <td>2014</td>\n",
       "      <td>6232831242</td>\n",
       "      <td>1038491579</td>\n",
       "      <td>136554.648017</td>\n",
       "      <td>13934.854121</td>\n",
       "      <td>1.741213e+10</td>\n",
       "    </tr>\n",
       "  </tbody>\n",
       "</table>\n",
       "</div>"
      ],
      "text/plain": [
       "     Entity  Year  \\\n",
       "1933  World  2010   \n",
       "1934  World  2011   \n",
       "1935  World  2012   \n",
       "1936  World  2013   \n",
       "1937  World  2014   \n",
       "\n",
       "      People with access to electricity (people with electricity)  \\\n",
       "1933                                         5791533844             \n",
       "1934                                         5787556419             \n",
       "1935                                         6039529788             \n",
       "1936                                         6120924477             \n",
       "1937                                         6232831242             \n",
       "\n",
       "      People without access to electricity (people without electricity access)  \\\n",
       "1933                                         1141335899                          \n",
       "1934                                         1227427549                          \n",
       "1935                                         1060027861                          \n",
       "1936                                         1064213049                          \n",
       "1937                                         1038491579                          \n",
       "\n",
       "          e_non_ebt         e_ebt  CO2_e_electricity  \n",
       "1933  129703.614581  11018.679190       1.612553e+10  \n",
       "1934  132678.958529  11576.132383       1.693330e+10  \n",
       "1935  133826.149910  12426.832819       1.727362e+10  \n",
       "1936  135822.429782  13267.500029       1.738380e+10  \n",
       "1937  136554.648017  13934.854121       1.741213e+10  "
      ]
     },
     "execution_count": 15,
     "metadata": {},
     "output_type": "execute_result"
    }
   ],
   "source": [
    "dataset_baru = pd.merge(e_acc, ds2)\n",
    "dataset_baru.tail()"
   ]
  },
  {
   "cell_type": "code",
   "execution_count": 18,
   "metadata": {},
   "outputs": [
    {
     "data": {
      "text/html": [
       "<div>\n",
       "<style scoped>\n",
       "    .dataframe tbody tr th:only-of-type {\n",
       "        vertical-align: middle;\n",
       "    }\n",
       "\n",
       "    .dataframe tbody tr th {\n",
       "        vertical-align: top;\n",
       "    }\n",
       "\n",
       "    .dataframe thead th {\n",
       "        text-align: right;\n",
       "    }\n",
       "</style>\n",
       "<table border=\"1\" class=\"dataframe\">\n",
       "  <thead>\n",
       "    <tr style=\"text-align: right;\">\n",
       "      <th></th>\n",
       "      <th>country</th>\n",
       "      <th>ppl_acc</th>\n",
       "      <th>ppl_no_acc</th>\n",
       "      <th>e_non_ebt</th>\n",
       "      <th>e_ebt</th>\n",
       "      <th>e_co2_em</th>\n",
       "    </tr>\n",
       "  </thead>\n",
       "  <tbody>\n",
       "    <tr>\n",
       "      <th>1933</th>\n",
       "      <td>World</td>\n",
       "      <td>5791533844</td>\n",
       "      <td>1141335899</td>\n",
       "      <td>129703.614581</td>\n",
       "      <td>11018.679190</td>\n",
       "      <td>1.612553e+10</td>\n",
       "    </tr>\n",
       "    <tr>\n",
       "      <th>1934</th>\n",
       "      <td>World</td>\n",
       "      <td>5787556419</td>\n",
       "      <td>1227427549</td>\n",
       "      <td>132678.958529</td>\n",
       "      <td>11576.132383</td>\n",
       "      <td>1.693330e+10</td>\n",
       "    </tr>\n",
       "    <tr>\n",
       "      <th>1935</th>\n",
       "      <td>World</td>\n",
       "      <td>6039529788</td>\n",
       "      <td>1060027861</td>\n",
       "      <td>133826.149910</td>\n",
       "      <td>12426.832819</td>\n",
       "      <td>1.727362e+10</td>\n",
       "    </tr>\n",
       "    <tr>\n",
       "      <th>1936</th>\n",
       "      <td>World</td>\n",
       "      <td>6120924477</td>\n",
       "      <td>1064213049</td>\n",
       "      <td>135822.429782</td>\n",
       "      <td>13267.500029</td>\n",
       "      <td>1.738380e+10</td>\n",
       "    </tr>\n",
       "    <tr>\n",
       "      <th>1937</th>\n",
       "      <td>World</td>\n",
       "      <td>6232831242</td>\n",
       "      <td>1038491579</td>\n",
       "      <td>136554.648017</td>\n",
       "      <td>13934.854121</td>\n",
       "      <td>1.741213e+10</td>\n",
       "    </tr>\n",
       "  </tbody>\n",
       "</table>\n",
       "</div>"
      ],
      "text/plain": [
       "     country     ppl_acc  ppl_no_acc      e_non_ebt         e_ebt  \\\n",
       "1933   World  5791533844  1141335899  129703.614581  11018.679190   \n",
       "1934   World  5787556419  1227427549  132678.958529  11576.132383   \n",
       "1935   World  6039529788  1060027861  133826.149910  12426.832819   \n",
       "1936   World  6120924477  1064213049  135822.429782  13267.500029   \n",
       "1937   World  6232831242  1038491579  136554.648017  13934.854121   \n",
       "\n",
       "          e_co2_em  \n",
       "1933  1.612553e+10  \n",
       "1934  1.693330e+10  \n",
       "1935  1.727362e+10  \n",
       "1936  1.738380e+10  \n",
       "1937  1.741213e+10  "
      ]
     },
     "execution_count": 18,
     "metadata": {},
     "output_type": "execute_result"
    }
   ],
   "source": [
    "dataset_baru.columns = ['country','year','ppl_acc','ppl_no_acc', 'e_non_ebt', 'e_ebt', 'e_co2_em']\n",
    "dataset_baru = dataset_baru.drop(columns = ['year'])\n",
    "dataset_baru.tail()"
   ]
  },
  {
   "cell_type": "code",
   "execution_count": 24,
   "metadata": {},
   "outputs": [
    {
     "data": {
      "text/plain": [
       "(1938, 6)"
      ]
     },
     "execution_count": 24,
     "metadata": {},
     "output_type": "execute_result"
    }
   ],
   "source": [
    "dataset_baru.shape\n",
    "#dataset_baru.to_csv('dataset/EE_data_baru.csv')\n",
    "#export lagi setelah drop column yang korelasinya buruk"
   ]
  },
  {
   "cell_type": "code",
   "execution_count": 23,
   "metadata": {},
   "outputs": [
    {
     "data": {
      "text/plain": [
       "<matplotlib.axes._subplots.AxesSubplot at 0x23c14e0efc8>"
      ]
     },
     "execution_count": 23,
     "metadata": {},
     "output_type": "execute_result"
    },
    {
     "data": {
      "image/png": "[encoded data removed]",
      "text/plain": [
       "<Figure size 432x288 with 2 Axes>"
      ]
     },
     "metadata": {
      "needs_background": "light"
     },
     "output_type": "display_data"
    }
   ],
   "source": [
    "sns.heatmap(dataset_baru.corr(), annot = True)"
   ]
  },
  {
   "cell_type": "code",
   "execution_count": null,
   "metadata": {},
   "outputs": [],
   "source": []
  }
 ],
 "metadata": {
  "kernelspec": {
   "display_name": "Python 3",
   "language": "python",
   "name": "python3"
  },
  "language_info": {
   "codemirror_mode": {
    "name": "ipython",
    "version": 3
   },
   "file_extension": ".py",
   "mimetype": "text/x-python",
   "name": "python",
   "nbconvert_exporter": "python",
   "pygments_lexer": "ipython3",
   "version": "3.7.5"
  }
 },
 "nbformat": 4,
 "nbformat_minor": 4
}
